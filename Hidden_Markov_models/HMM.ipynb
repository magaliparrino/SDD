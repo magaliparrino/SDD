{
 "cells": [
  {
   "cell_type": "markdown",
   "metadata": {},
   "source": [
    "# Hidden Markov Models (HMMs)"
   ]
  },
  {
   "cell_type": "markdown",
   "metadata": {},
   "source": [
    "## Introduction\n",
    "\n",
    "The world we live in is evolving over time, but we often do not perceive the causes, only the consequences: we can observe the current weather but not the physical phenomenons that led to it. Trying to predict the weather is a hard task partially due to those hidden causes: we don't know exactly what is causing what and how everything is linked.\n",
    "\n",
    "*Hidden Markov Models (HMMs)* are a class of models that allow us to reason about **the dynamics of a set of unobserved states that lead to the changing sensory inputs or data we observe.**\n",
    "\n",
    "HMMs originate from the field of probability theory and have proven to be useful in speech recognition, bioinformatics, finance, and more.\n",
    "\n",
    "In this notebook, we will:\n",
    "- (re)introduce the notions of Markov chains and Hiden Markov Models\n",
    "- address  the 3 fundamental problems inherent to HMMs\n",
    "- see an example of the HMM usefulness\n",
    "\n",
    "\n",
    "<img src=\"img/intro_smiley.PNG\" width=\"600px\"></img>\n",
    "\n",
    "*Markov representation of your state of understanding before and after this notebook*\n",
    "\n",
    "\n"
   ]
  },
  {
   "cell_type": "code",
   "execution_count": 24,
   "metadata": {},
   "outputs": [],
   "source": [
    "import numpy as np\n",
    "import pandas as pd"
   ]
  },
  {
   "cell_type": "markdown",
   "metadata": {},
   "source": [
    "## 1. Context: the different Markov Models"
   ]
  },
  {
   "cell_type": "markdown",
   "metadata": {},
   "source": [
    "### 1.1 Quick Markov Chains recalls\n",
    "\n",
    "As its name implies, HMMs are complexified Markov chains.\n",
    "\n",
    "<div class=\"alert alert-success\">\n",
    "    \n",
    "A **Markov chain** or **Markov process** is a stochastic model describing a sequence of possible events in which the *probability of each event depends only on the state attained in the previous event.*\n",
    "\n",
    "Therefore,  according to the **Markov assumption** : $P(q_i = a | q_1, \\ldots, q_{i-1}) = P(q_i = a | q_{i-1})$\n",
    "</div>\n",
    "\n",
    "A Markov chain can be described by:\n",
    "- a set of **N** *states* $Q = Q_1, ..., Q_N$\n",
    "- a *transition probability matrix* **A** where $a_ij$ represents the probability of going from state i to state j\n",
    "- an *initial probability distribution* **$\\pi$** where $\\pi_i$ gives the probability of the Markov chain starting in state i\n",
    "\n",
    "<div class=\"alert alert-info\">\n",
    "\n",
    "*Note:* throughout this notebook, we will restrain ourselves to Markov chains evolving in a space E **countable** and **homogeneous in time.**\n",
    "</div>\n",
    "\n",
    "</center>\n",
    "<img src=\"img/Markov_chain.PNG\" width=\"400px\"></img>  \n",
    "\n",
    "<br></center>\n",
    "\n",
    "<details class=\"alert alert-danger\">\n",
    "    <summary markdown=\"span\"><b>Can you try to infer the probability of the sequence Q2 Q1 Q1? (click to expand)</b></summary>\n",
    "\n",
    "$P(Q_2 Q_1 Q_1) = 0.147$\n",
    "\n",
    "/!\\ Did you notice that     $\\sum_{j=1}^{N} a_{ij} = 1$    ?\n",
    "\n",
    "</details>"
   ]
  },
  {
   "cell_type": "markdown",
   "metadata": {},
   "source": [
    "### 1.2 Hidden Markov Models\n",
    "\n",
    "Now, it happens sometimes that we can't observe the states, but rather events caused by them.\n",
    "\n",
    "Let's say you are a doctor, whose patients only have 2 states: Healthy or Sick. Despite your many years of studies and practice, you can't really observe whether your patient is sick or fine. Rather, given some **symtoms that you can *observe* and measure**, you can **guess** with a reasonable probability his ***state* of health**. \n",
    "\n",
    "This is what a Hidden Markov Model is about.\n",
    "\n",
    "<img src=\"img/Markov_chain_vs_HMM.PNG\" width=\"800px\"></img>\n",
    "\n",
    "\n",
    "\n",
    "<div class=\"alert alert-success\">\n",
    "    \n",
    "A **hidden Markov model (HMM)** is a Markov model in which the **observations are dependent on a latent (or \"hidden\") Markov process**. An HMM requires that there be an observable process whose outcomes depend on the outcomes of the hidden Markov process in a known way.\n",
    "\n",
    "</div>\n",
    "\n",
    "Therefore, a HMM can be described by the following components:\n",
    "- a set of **N** *states* $Q = q_1, ..., q_N$\n",
    "- a *transition probability matrix* **A** where $a_{ij}$ represents the probability of going from state i to state j\n",
    "- a sequence of **T** *observations* $O=o_1, ..., o_T$ drawn from a vocabulary $V=v_1, ..., v_V$\n",
    "- a sequence of *observation likelihoods* (or *emission probabilities*) $B=b_i(o_t)$ expressing the probability of the observation $o_t$ being caused by the state i\n",
    "- an *initial probability distribution* **$\\pi$** where $\\pi_i$ gives the probability of the Markov chain starting in state i\n",
    "\n",
    "Taking the previous example, this is how the model should be visualized:\n",
    "\n",
    "</center><img src=\"img/HMM_graph.PNG\" width=\"800px\"></img>  <br></center>\n",
    "\n",
    "\n",
    "<div class=\"alert alert-info\">\n",
    "\n",
    "*Note:* for the rest of this notebook, as we will be using np.arrays to code, we will need to index the states and observations. Therefore ***Healthy*** will be indexed as **0** and ***Sick*** as **1**, while the observations will be respectively indexed as follow: **{*Fine*: 0}, {*Cold*: 1}, {*Dizzy*: 2}**.\n",
    "</div>\n",
    "\n",
    "\n",
    "<div class=\"alert alert-success\">\n",
    "\n",
    "As it was for the Markov chain, the *probability of each event depends only on the state attained in the previous event.*  (Markov assumption)\n",
    "\n",
    "<center>\n",
    "<br>\n",
    "\n",
    "$P(q_i = a | q_1, \\ldots, q_{i-1}) = P(q_i = a | q_{i-1})$ \n",
    "</center>\n",
    "\n",
    "\n",
    "Moreover, the **probability of an output** observation $o_i$ **depends only on the state that produced the observation** $q_i$ and not on any other states or any other observations (**Independance assumption**): \n",
    "<center>\n",
    "<br>\n",
    "\n",
    "$P(o_i | q_1, \\ldots, q_T, o_1, \\ldots, o_i, \\ldots, o_T) = P(o_i | q_i)$\n",
    "</center>\n",
    "\n",
    "Finally, it will be assumed that state transition probabilities are independant of the actual time at which the transitions take place (**Stationary assumption**):\n",
    "<center>\n",
    "<br>\n",
    "\n",
    "$P(q_{t_1 + 1} = j | q_{t_1} = i) = P(q_{t_2 + 1} = j | q_{t_2} = i)$ for time $t_1$ and $t_2$\n",
    "</center>\n",
    "\n",
    "</div>\n",
    "\n",
    "\n",
    "\n",
    "\n",
    "\n"
   ]
  },
  {
   "cell_type": "markdown",
   "metadata": {},
   "source": [
    "Our HMM $\\lambda = (A, B, \\pi)$ can be implemented as follow"
   ]
  },
  {
   "cell_type": "code",
   "execution_count": 25,
   "metadata": {},
   "outputs": [],
   "source": [
    "A = np.array([[0.8, 0.2],\n",
    "              [0.5, 0.5]])\n",
    "\n",
    "B = np.array([[0.7, 0.2, 0.1],\n",
    "              [0.3, 0.4, 0.3]])\n",
    "\n",
    "pi = np.array([0.5, 0.5])\n"
   ]
  },
  {
   "cell_type": "code",
   "execution_count": 26,
   "metadata": {},
   "outputs": [
    {
     "name": "stdout",
     "output_type": "stream",
     "text": [
      "Our example is described by the following\n",
      "\n",
      "Transition Matrix\n",
      " A= [[0.8 0.2]\n",
      " [0.5 0.5]] \n",
      "\n",
      "Emission Matrix\n",
      " B=  [[0.7 0.2 0.1]\n",
      " [0.3 0.4 0.3]] \n",
      "\n",
      "Initial probability distribution\n",
      " pi =  [0.5 0.5] \n",
      "\n"
     ]
    }
   ],
   "source": [
    "print(\"Our example is described by the following\\n\")\n",
    "print(\"Transition Matrix\\n A=\", A, \"\\n\")\n",
    "print(\"Emission Matrix\\n B= \", B, \"\\n\")\n",
    "print(\"Initial probability distribution\\n pi = \", pi, \"\\n\")"
   ]
  },
  {
   "cell_type": "markdown",
   "metadata": {},
   "source": [
    "To apply the model to real-world problems, the community (led by **Rabiner** and his [influential tutorial](https://www.google.com/url?sa=t&rct=j&q=&esrc=s&source=web&cd=&cad=rja&uact=8&ved=2ahUKEwi_tqzw2KOEAxVWcKQEHYaSBZ8QFnoECBAQAQ&url=https%3A%2F%2Fwww.cs.ubc.ca%2F~murphyk%2FBayes%2Frabiner.pdf&usg=AOvVaw196t6QWhJj5gGV-7SiYaJk&opi=89978449)) came up with 3 basic problems that need to be solved.\n",
    "\n",
    "<div class=\"alert alert-warning\">\n",
    "\n",
    "- **Problem 1 (Likelihood)**: Given an HMM $\\lambda = (A,B, \\pi)$ and an observation sequence O, determine the likelihood $P(O|\\lambda)$.\n",
    "- **Problem 2 (Decoding)**: Given an observation sequence O and an HMM $\\lambda =(A,B,\\pi)$, find the most probable sequence of states Q.\n",
    "- **Problem 3 (Learning)**: Given an observation sequence O and the set of statesin the HMM, learn the HMM parameters A and B.\n",
    "\n",
    "</div>\n",
    "\n",
    "Each of these 3 problems have real-world application:\n",
    "- **Likelihood Problem**: In [*speech recognition*](https://ieeexplore.ieee.org/document/4767370) systems, the evaluation problem helps determine the likelihood of a given sequence of observed acoustic features (speech signals) given the model. This is crucial for identifying and understanding spoken words.\n",
    "- **Decoding Problem**:  In [*Natural Language Processing*](https://yashikajournals.com/index.php/mlaeem/article/view/22), the decoding problem is used for part-of-speech tagging, where the most likely sequence of hidden states (parts of speech) is determined based on observed words in a sentence. This helps analyze and understand the grammatical structure of a text.\n",
    "- **Learning Problem**: In [*financial modeling*](https://www.researchgate.net/publication/234135825_Markov_Financial_Model_Using_Hidden_Markov_Model), the learning problem is applied to estimate the parameters of an HMM based on observed stock prices. By adjusting the transition probabilities and emission probabilities, the model can be trained to capture underlying patterns and trends in financial markets."
   ]
  },
  {
   "cell_type": "markdown",
   "metadata": {},
   "source": [
    "## 2. Solving the 3 fundamental problems"
   ]
  },
  {
   "cell_type": "markdown",
   "metadata": {},
   "source": [
    "### 2.1. The Forward algorithm to solve the likelihood problem\n",
    "\n",
    "The problem at hand here is the following:\n",
    "\n",
    "<div class=\"alert alert-warning\">\n",
    "\n",
    "**Problem 1 (Likelihood)**: Given an HMM $\\lambda = (A,B, \\pi)$ and an observation sequence O, determine the likelihood $P(O|\\lambda)$.\n",
    "\n",
    "</div>\n",
    "\n",
    "Applied to our example, the goal would be to determine the probability of obtaining the sequence **Cold - Fine - Dizzy - Cold**\n",
    "\n",
    "<div class=\"alert alert-info\">\n",
    "\n",
    "*Note*: Remember, as we said before we are working with numpy arrays so every sequence will start at the index 0 : $O = o_0, ..., o_{T-1}$\n",
    "</div>\n"
   ]
  },
  {
   "cell_type": "markdown",
   "metadata": {},
   "source": [
    "#### 2.1.1. Naive solving\n",
    "\n",
    "<div class=\"alert alert-info\">\n",
    "\n",
    "*Note:* To simplify notations, the HMM model $\\lambda$ will be implied: $P(O|\\lambda) = P(O)$. But remember that every operation can only make sense for a given model $\\lambda = (A, B, \\pi)$\n",
    "\n",
    "</div>\n",
    "\n",
    "With a Markov process, it would have been fairly simple:\n",
    "\n",
    "Let's consider a state sequence $Q = q_0, q_1, ..., q_{N-1}$, where $q_0$ and $q_{N-1}$ are initial and final states, respectively. The probability of an observation sequence O generated by a state sequence Q can be represented as\n",
    "\n",
    "<center><br>  \n",
    "\n",
    "$P(O|Q)= \\Pi_{i=0}^{T-1} P(o_i|q_i)$ \n",
    "\n",
    "</center>\n",
    "\n",
    "Applied to our example we would have \n",
    "\n",
    "$P(Cold, Fine, Dizzy, Cold | Q) = P(Cold|q_0) . P(Fine | q_1) . P(Dizzy|q_2) . P(Cold | q_3)$\n",
    "\n",
    "However, we don't know the actual sequence that the hidden states $q_i$ followed. Therefore we need to take every sequence into account. \n",
    "\n",
    "<center><br> \n",
    "\n",
    "$P(O) = \\sum_{Q} P(O,Q) = \\sum_{Q} P(O|Q)P(Q)$\n",
    "\n",
    "</center>\n",
    "\n",
    "Since we have 2 states, there can be 16 combinations resulting in our 4-length observation sequence.\n",
    "\n",
    "\n",
    "<details class=\"alert alert-danger\">\n",
    "    <summary markdown=\"span\"><b>Can you guess the complexity for a sequence of T observations and N hidden states ? (click to expand)</b></summary>\n",
    "\n",
    "The complexity would be exponential $O(N^{T})$\n",
    "\n",
    "For a simple example as ours, brute forcing is feasible, but 50 observations on a HMM with 10 states would generate $10^{50}$ operations. \n",
    "\n",
    "</details>\n",
    "\n",
    "\n"
   ]
  },
  {
   "cell_type": "markdown",
   "metadata": {},
   "source": [
    "#### 2.1.2. The Forward Algorithm\n",
    "\n",
    "It relies on *dynamic programming*, meaning it uses a table to store itermediate values, named *forward trellis*. \n",
    "\n",
    "<div class=\"alert alert-success\">\n",
    "    \n",
    "The cells of the forward trellis are given by:\n",
    "<center>\n",
    "<br>\n",
    "\n",
    "$\\alpha_{t}(j)= P(o_1, \\ldots, o_t, q_t = j)$ for $0 \\le t \\le T-1$\n",
    "\n",
    "</center>\n",
    "\n",
    "To obtain this probability, you have to sum over all the paths that end up generating the cell, at the time $t$ in the state $q_j$\n",
    "\n",
    "Therefore:\n",
    "\n",
    "<center>\n",
    "<br>\n",
    "\n",
    "$\\alpha_{t}(j)= \\sum_{i = 0}^{N-1} \\alpha_{t-1} a_{ij} b_j(o_t)$\n",
    "</center>\n",
    "\n",
    "where\n",
    "- $\\alpha_{t-1}$ is the *previous forward probability* from the previous time step\n",
    "- $a_{ij}$ is the *transition probability* from previous state $q_i$ to current state $q_j$\n",
    "- $b_j(o_t)$ is the *state observation likelihood* of the obervation $o_t$ generated by the tate $j$\n",
    "\n",
    "</div>\n",
    "\n",
    "<img src=\"img/Forward_figure.PNG\" width=\"800px\"></img>\n",
    "\n",
    "<details class=\"alert alert-danger\">\n",
    "    <summary markdown=\"span\"><b>Can you compute by hand the forward probability $\\alpha_{1}(0)$? (click to expand)</b></summary>\n",
    "\n",
    "$\\alpha_{0}(0) = P(0|start) * P(o_0|0) = 0.5 * 0.2 = 0.1$\n",
    "\n",
    "$\\alpha_{0}(1) = P(1|start) * P(o_0|1) = 0.5 * 0.4 = 0.2$\n",
    "\n",
    "\n",
    "$\\alpha_{1}(0) = \\alpha_{0}(0) * P(0|0) * P(o_1|0) + \\alpha_{0}(1) * P(0|1) * P(o_1|0) = 0.1 * 0.8 * 0.7 + 0.2 * 0.5 * 0.7 = 0.126$ \n",
    "\n",
    "</details>\n",
    "\n",
    "\n",
    "\n"
   ]
  },
  {
   "cell_type": "markdown",
   "metadata": {},
   "source": [
    "The forward algorithm will be therefore implemented as follow: \n",
    "\n",
    "- Initialization step:\n",
    "<center>\n",
    "<br>\n",
    "\n",
    "$\\alpha_{0}(j) = \\pi_{j} b_j(o_0)$ with $0 \\le j \\le N-1 $ \n",
    "\n",
    "</center>\n",
    "\n",
    "- Recursion step \n",
    "\n",
    "<center>\n",
    "<br>\n",
    "\n",
    "$\\alpha_{t}(j)= \\sum_{i = 0}^{N-1} \\alpha_{t-1}(i) a_{ij} b_j(o_t)$ with $0 \\le j \\le N-1$ and $0 \\le t \\le T-1$\n",
    "\n",
    "</center>\n",
    "\n",
    "- Termination step\n",
    "\n",
    "<center>\n",
    "<br>\n",
    "\n",
    "$P(O)= \\sum_{i = 0}^{N-1} \\alpha_{T-1}(i)$\n",
    "\n",
    "</center>\n",
    "\n",
    "<div class=\"alert alert-warning\">\n",
    "\n",
    "**Excercise**\n",
    "\n",
    "Try and complete the Forward algorithm below\n",
    "\n",
    "</div>"
   ]
  },
  {
   "cell_type": "code",
   "execution_count": 27,
   "metadata": {},
   "outputs": [],
   "source": [
    "#%load solutions/forward.py\n",
    "def forward(A, B, pi, observations):\n",
    "    \"\"\"\n",
    "    Returns the likelihood probability\n",
    "    \"\"\"\n",
    "    T = len(observations)\n",
    "    N = pi.shape[0]\n",
    "    \n",
    "    alpha = np.zeros((N, T))\n",
    "    \n",
    "    # Initialization\n",
    "\n",
    "    #############\n",
    "    # CODE HERE #\n",
    "    #############\n",
    "\n",
    "    \n",
    "    # Recursion \n",
    "    \n",
    "    #############\n",
    "    # CODE HERE #\n",
    "    #############\n",
    "                \n",
    "    \n",
    "    #print(alpha)\n",
    "    \n",
    "    return np.sum(alpha[:, T-1])"
   ]
  },
  {
   "cell_type": "code",
   "execution_count": 28,
   "metadata": {},
   "outputs": [
    {
     "name": "stdout",
     "output_type": "stream",
     "text": [
      "\n",
      " \n",
      "Probability of the observed sequence is:  0.0\n"
     ]
    }
   ],
   "source": [
    "states = 0, 1\n",
    "observations = [1,0,1,2]\n",
    "\n",
    "final_prob = forward(A, B, pi, observations)\n",
    "print(\"\\n \\nProbability of the observed sequence is: \", final_prob)"
   ]
  },
  {
   "cell_type": "markdown",
   "metadata": {},
   "source": [
    "### 2.2. Solving the decoding problem"
   ]
  },
  {
   "cell_type": "markdown",
   "metadata": {},
   "source": [
    "\n",
    "\n",
    "<div class=\"alert alert-warning\">\n",
    "\n",
    "- **Problem 2 (Decoding)**: Given an observation sequence O and an HMM $\\lambda =(A,B,\\pi)$, find the most probable sequence of states Q\n",
    "\n",
    "</div>\n",
    "\n",
    "The intuitive solution would be to run the forward algorithm for each hidden state sequence and select the one whose likelihood is the highest. But as we've seen before, the computation would be exponential and so counterproductive.\n",
    "\n",
    "Rather, the usual decoding algorithm is the **Viterbi algorithm**. It is, like the forward algorithm, a *dynamic programming* algorithm that uses a dynamic programming trellis.\n",
    "\n",
    "Much like the forward algorithm, the value of each trellis cell is computed recursively, by taking the maximum over all previous state sequences. With the probabilities of being in every cell at $t-1$ all already computed, we only have to take the most probable path extention to get to our current cell\n",
    "\n",
    "\n",
    "<div class=\"alert alert-success\">\n",
    "    \n",
    "More formally,  the most probable path that can lead to current cell $v_t(j)$ can be written\n",
    "<center>\n",
    "<br>\n",
    "\n",
    "$v_t(j)= \\max _{q_0, ..., q_{t-1}} P(q_0, \\ldots, q_{t-1}, o_1, ..., o_t, q_t = j)$\n",
    "\n",
    "</center>\n",
    "\n",
    "Meaning we only have to compute\n",
    "\n",
    "<center>\n",
    "<br>\n",
    "\n",
    "$v_{t}(j)= \\max_{i = 0}^{N-1} v_{t-1} a_{ij} b_j(o_t)$\n",
    "</center>\n",
    "\n",
    "where\n",
    "- $v_{t-1}$ is the *previous Viterbi path probability* from the previous time step\n",
    "- $a_{ij}$ is the *transition probability* from previous state $q_i$ to current state $q_j$\n",
    "- $b_j(o_t)$ is the *state observation likelihood* of the obervation $o_t$ generated by the tate $j$\n",
    "\n",
    "</div>\n",
    "\n",
    "Where the Viterbi algorithm differentiates itself from the forward algorithm, is the need for **backtracking** pointers, in order to keep trace of the best sequence possible. You can see it illustrated by red arrows on the figure bellow\n",
    "\n",
    "<img src=\"img/viterbi_figure.PNG\" width=\"800px\"></img>\n",
    "\n",
    "<details class=\"alert alert-danger\">\n",
    "    <summary markdown=\"span\"><b>Can you compute by hand the Viterbi path probability ? Can you understand why the red arrows point towards the Sick state ? (click to expand)</b></summary>\n",
    "\n",
    "$v_{0}(0) = P(0|start) * P(o_0|0) = 0.5 * 0.2 = 0.1$\n",
    "\n",
    "$v_{0}(1) = P(1|start) * P(o_0|1) = 0.5 * 0.4 = 0.2$\n",
    "\n",
    "\n",
    "$v_{1}(0) = \\max(v_{0}(0) * P(0|0) * P(o_1|0) , v_{0}(1) * P(0|1) * P(o_1|0)) = \\max(0.056, 0.07) = 0.07$ \n",
    "\n",
    "$v_{1}(1) = \\max(v_{0}(0) * P(1|0) * P(o_1|1) , v_{0}(1) * P(1|1) * P(o_1|1)) = \\max(0.006, 0.03) = 0.03$ \n",
    "\n",
    "The maximum computed for the second observation always comes from the Sick state of the first observation, hence the red arrows.\n",
    "\n",
    "</details>\n"
   ]
  },
  {
   "cell_type": "markdown",
   "metadata": {},
   "source": [
    "The recursion computation will resemble closely to that of the forward algorithm, with the addition of the backtracking (more detailled explanations [here](https://www.audiolabs-erlangen.de/resources/MIR/FMP/C5/C5S3_Viterbi.html)):\n",
    "- **Initialization step**:\n",
    "<center>\n",
    "<br>\n",
    "\n",
    "$v_{0}(j) = \\pi_{j} b_j(o_0)$ with $0 \\le j \\le N-1 $ \n",
    "\n",
    "$bt_0(j) = 0$ with $0 \\le j \\le N-1 $\n",
    "\n",
    "</center>\n",
    "\n",
    "- **Recursion step**\n",
    "\n",
    "<center>\n",
    "<br>\n",
    "\n",
    "$v_{t}(j)= \\max_{i = 0}^{N-1} v_{t-1}(i) a_{ij} b_j(o_t)$ with $0 \\le j \\le N-1$ and $0 \\le t \\le T-1$\n",
    "\n",
    "$bt_{t}(j)= \\argmax_{i = 0}^{N-1} v_{t-1}(i) a_{ij} b_j(o_t)$ with $0 \\le j \\le N-1$ and $0 \\le t \\le T-1$\n",
    "\n",
    "</center>\n",
    "\n",
    "- **Termination step**\n",
    "\n",
    "<center>\n",
    "<br>\n",
    "\n",
    "The best probability obtainable : $P= \\max_{i = 0}^{N-1} v_{T-1}(i)$\n",
    "\n",
    "Start of the backtrace: $q_T= \\argmax_{i = 0}^{N-1} v_{T-1}(i)$\n",
    "\n",
    "</center>\n",
    "\n",
    "\n",
    "<div class=\"alert alert-warning\">\n",
    "\n",
    "**Excercise**\n",
    "\n",
    "Try and complete the Viterbi algorithm below\n",
    "\n",
    "</div>\n",
    "\n"
   ]
  },
  {
   "cell_type": "code",
   "execution_count": 37,
   "metadata": {},
   "outputs": [],
   "source": [
    "#%load solutions/viterbi.py\n",
    "\n",
    "def viterbi(A, B, pi, observations):\n",
    "    \"\"\"\n",
    "    Returns the optimal state sequence and the probability associated\n",
    "    \"\"\"\n",
    "\n",
    "    N = A.shape[0]    # Number of states\n",
    "    T = len(observations)  # Length of observation sequence\n",
    "\n",
    "    v = np.zeros((N, T))\n",
    "    bt = np.zeros((N, T-1))\n",
    "    Q_opt = np.zeros(T)\n",
    "\n",
    "    ### Initialization\n",
    "    v[:, 0] = pi * B[:, observations[0]]\n",
    "\n",
    "    ### Recursion\n",
    "\n",
    "    #############\n",
    "    # CODE HERE #\n",
    "    #############\n",
    "\n",
    "    ###Termination    \n",
    "    # Backtracking\n",
    "\n",
    "    #############\n",
    "    # CODE HERE #\n",
    "    #############\n",
    "    \n",
    "    # Best probability\n",
    "    best_prob = np.max(v[:, T-1])\n",
    "    \n",
    "    #print(v)\n",
    "\n",
    "    return Q_opt, best_prob"
   ]
  },
  {
   "cell_type": "markdown",
   "metadata": {},
   "source": [
    "Try and change the observation set to see if the optimal state sequence is coherent"
   ]
  },
  {
   "cell_type": "code",
   "execution_count": 39,
   "metadata": {},
   "outputs": [
    {
     "name": "stdout",
     "output_type": "stream",
     "text": [
      "Observation sequence:   O =  [1, 0, 1, 2]\n",
      "Optimal state sequence: Q =  [1. 1. 1. 1.]\n"
     ]
    }
   ],
   "source": [
    "observations = [1,0,1,2]\n",
    "#observations = [2,1,0,0]\n",
    "\n",
    "# Apply Viterbi algorithm\n",
    "Q_opt, best_prob = viterbi(A, B, pi, observations)\n",
    "#\n",
    "print('Observation sequence:   O = ', observations)\n",
    "print('Optimal state sequence: Q = ', Q_opt)"
   ]
  },
  {
   "cell_type": "markdown",
   "metadata": {},
   "source": [
    "### 2.3. How to train your HMM\n",
    "\n",
    "<div class=\"alert alert-warning\">\n",
    "\n",
    "- **Problem 3 (Learning)**: Given an observation sequence O and the set of states in the HMM, learn the HMM parameters A and B.\n",
    "\n",
    "</div>\n",
    "\n",
    "This is the hardest problem to solve. The common algorithm used to train a HMM is the **forward-backward** algorithm, also known as the [**Baum-Welch**](https://www.google.com/url?sa=t&rct=j&q=&esrc=s&source=web&cd=&cad=rja&uact=8&ved=2ahUKEwjg1sKg2qOEAxWYU6QEHcwGA-EQFnoECBEQAQ&url=https%3A%2F%2Ffiles.library.northwestern.edu%2Fpublic%2FFiles%2FBaum.pdf&usg=AOvVaw3CnMHhD5gSxw2Ly9PvKFVP&opi=89978449) algorithm. It is a special case of the [**Expectation-Maximization**](https://www.google.com/url?sa=t&rct=j&q=&esrc=s&source=web&cd=&cad=rja&uact=8&ved=2ahUKEwjN9sq72qOEAxXQV6QEHUBuArwQFnoECBMQAQ&url=https%3A%2F%2Fwww.ece.iastate.edu%2F~namrata%2FEE527_Spring08%2FDempster77.pdf&usg=AOvVaw0Ye3rcKAlJPA7TSt19alwJ&opi=89978449) (EM) algorithm. It doesn't provide the exact solution, but a good-enough approximation.\n",
    "\n",
    "It is an **iterative algorithm** that computes an estimation of the model and then uses it to better the estimation until convergence. \n",
    "\n",
    "Intuitively, we can estimate $\\hat{a}_{ij}$ by a variant of maximum likelihood expectation:\n",
    "\n",
    "<center>\n",
    "<br>\n",
    "\n",
    "$\\hat{a}_{ij} = \\frac{\\text{expected number of transitions from state i to state j}}{\\text{expected number of transitions from state i}}$\n",
    "</center>\n",
    "\n",
    "Similarly, to compute the observation probability, we must find the probability of observing a symbol $v_k$ given the state j:\n",
    "<center>\n",
    "<br>\n",
    "\n",
    "$\\hat{b}_{ij} = \\frac{\\text{expected number of times in  state j and observing symbol vk}}{\\text{expected number of times from in state j}}$\n",
    "</center>\n",
    "\n",
    "As the algorithm is called forward-backward algorithm, we'll need to **compute** respectively the **forward $\\alpha_t(i)$** and **backard $\\beta_t(i)$** probabilities, as we will need them in our calculus. The forward probability is the same as the one used for the likelihood probability:\n",
    "\n"
   ]
  },
  {
   "cell_type": "code",
   "execution_count": 31,
   "metadata": {},
   "outputs": [],
   "source": [
    "def forward_computation( A, B, pi, observations):\n",
    "    T = len(observations)\n",
    "    N = A.shape[0]\n",
    "    alpha = np.zeros((T, N))\n",
    "    alpha[0, :] = pi * B[:, observations[0]]\n",
    " \n",
    "    for t in range(1,T):\n",
    "        for j in range(N):\n",
    "            product = alpha[t-1, :] * A[:, j] * B[j, observations[t]]\n",
    "            alpha[t, j] = np.sum(product)\n",
    " \n",
    "    return alpha"
   ]
  },
  {
   "cell_type": "code",
   "execution_count": 32,
   "metadata": {},
   "outputs": [
    {
     "name": "stdout",
     "output_type": "stream",
     "text": [
      "Forward probability\n",
      " alpha = \n",
      " [[0.1       0.2      ]\n",
      " [0.126     0.036    ]\n",
      " [0.02376   0.01728  ]\n",
      " [0.0027648 0.0040176]]\n"
     ]
    }
   ],
   "source": [
    "observations = [1,0,1,2]\n",
    "\n",
    "alpha = forward_computation( A, B, pi, observations)\n",
    "\n",
    "print(\"Forward probability\\n alpha = \\n\", alpha)\n",
    "\n"
   ]
  },
  {
   "cell_type": "markdown",
   "metadata": {},
   "source": [
    "As for the **bacward probability**, it is the probability of seing the given observations from time $t+1$ until the end, knowing that we are in a state $i$ at time $t$\n",
    "\n",
    "<center>\n",
    "<br>\n",
    "\n",
    "$\\beta_{t}(i) = P(o_{t+1}, ..., o_T|q_t =i)$\n",
    "</center>\n",
    "\n",
    "It is computed much like the forward probability:\n",
    "\n",
    "- **Initializalion step**\n",
    "\n",
    "<center>\n",
    "<br>\n",
    "\n",
    "$\\beta_{T}(i)= 1$ with $0 \\le i \\le N-1$\n",
    "</center>\n",
    "\n",
    "- **Recursion step**\n",
    "\n",
    "<center>\n",
    "<br>\n",
    "\n",
    "$\\beta_{t}(i)= \\sum_{j=0}^{N-1} a_{ij}b_j(o_{t+1})\\beta_{t+1}(j)$ with $0 \\le i \\le N-1 $ and $ $0 \\le t \\le T-1$\n",
    "</center>\n",
    "\n",
    "- **Termination step**\n",
    "\n",
    "<center>\n",
    "<br>\n",
    "\n",
    "$P(O) = \\sum_{j= 0}^{N-1} \\pi_{j} b_j(o_0) \\beta_0(j)$\n",
    "</center>\n",
    "\n",
    "<div class=\"alert alert-warning\">\n",
    "\n",
    "**Excercise**\n",
    "\n",
    "Try and complete the backward algorithm\n",
    "\n",
    "</div>\n",
    "\n"
   ]
  },
  {
   "cell_type": "code",
   "execution_count": 21,
   "metadata": {},
   "outputs": [],
   "source": [
    "# %load solutions/backward.py\n",
    "def backward_computation( A, B, observations):\n",
    "    T = len(observations)\n",
    "    N = A.shape[0]\n",
    "    beta = np.zeros((T, N))\n",
    " \n",
    "    # Initialization\n",
    "    \n",
    "    #############\n",
    "    # CODE HERE #\n",
    "    #############\n",
    " \n",
    "    # Recursion\n",
    "    \n",
    "    #############\n",
    "    # CODE HERE #\n",
    "    #############\n",
    " \n",
    "    return beta"
   ]
  },
  {
   "cell_type": "code",
   "execution_count": 22,
   "metadata": {},
   "outputs": [
    {
     "name": "stdout",
     "output_type": "stream",
     "text": [
      "Backward probability\n",
      " beta = \n",
      " [[0. 0.]\n",
      " [0. 0.]\n",
      " [0. 0.]\n",
      " [0. 0.]]\n"
     ]
    }
   ],
   "source": [
    "observations = [1,0,1,2]\n",
    "\n",
    "beta_veux = backward_computation( A, B, observations)\n",
    "\n",
    "print(\"Backward probability\\n beta = \\n\", beta_veux)\n"
   ]
  },
  {
   "cell_type": "markdown",
   "metadata": {},
   "source": [
    "#### 2.3.1. Estimating the transition probability\n",
    "\n",
    "We want to compute:\n",
    "<center>\n",
    "<br>\n",
    "\n",
    "$\\hat{a}_{ij} = \\frac{\\text{expected number of transitions from state i to state j}}{\\text{expected number of transitions from state i}}$\n",
    "</center>\n",
    "\n",
    "If we define $\\xi_{t}$ as the probability of being in state $i$ at time $t$ and state $j$ at time $t+1$, suming over the time gives us the numerator.\n",
    "<center>\n",
    "<br>\n",
    "\n",
    "$\\xi_{t}(i, j) = P(q_t = i, q_{t+1} = j |O)$\n",
    "\n",
    "{expected number of transitions from state $i$ to state $j$} = $\\sum_{t=0}^{T-2} \\xi_{t}(i,j)$\n",
    "</center>\n",
    "\n",
    "To determine $\\xi_{t}$, we can use the Bayes rule\n",
    "\n",
    "\n",
    "<center>\n",
    "<br>\n",
    "\n",
    "$P(q_t = i, q_{t+1} = j |O) = \\frac{P(q_t = i, q_{t+1} = j,O)}{P(O)}$\n",
    "</center>\n",
    "\n",
    "We already know $P(O)$ as the forward probability of the whole utterance (likelihood probability).\n",
    "\n",
    "And for a given set of observations, we can calculate the transition probability $a_{ij}b_j(o_{t+1})$. By noting $\\alpha_{t}(i)$ and $\\beta_{t+1}(j)$ respectively the forward probability before the arc and the backward probability after the arc leading to time $t$, we can infer:\n",
    "\n",
    "<center>\n",
    "<br>\n",
    "\n",
    "$P(q_t = i, q_{t+1} = j,O) = \\alpha_{t}(i) a_{ij}b_j(o_{t+1})\\beta_{t+1}(j)$\n",
    "</center>\n",
    "\n",
    "as it can be show in the figure below\n",
    "\n",
    "<img src=\"img/transition_estimation.PNG\" width=\"600px\"></img>\n",
    "\n",
    "<div class=\"alert alert-success\">\n",
    "\n",
    "Finally:\n",
    "\n",
    "<center>\n",
    "<br>\n",
    "\n",
    "$\\xi_t(i, j)= \\frac{\\alpha_{t}(i) a_{ij}b_j(o_{t+1})\\beta_{t+1}(j)}{\\sum_{j=0}^{N-1}\\alpha_t(j)\\beta_t(j)}$\n",
    "\n",
    "</center>\n",
    "\n",
    "</div>\n",
    "\n",
    "Now that we have the numerator of $\\hat{a}_{ij}$, we need tho find the total expected number of transitions from state $i$. This can be obtained by summing over all transitions out of $i$\n",
    "\n",
    "<div class=\"alert alert-success\">\n",
    "\n",
    "Therefore, the estimation of the transition probability is\n",
    "\n",
    "<center>\n",
    "<br>\n",
    "\n",
    "$\\hat{a}_{ij}= \\frac{\\sum_{t=0}^{T-2} \\xi_{t}(i,j)}{\\sum_{t=0}^{T-2}\\sum_{k=0}^{N-1}\\xi_{t}(i,k)}$\n",
    "\n",
    "</center>\n",
    "\n",
    "</div>\n",
    "\n"
   ]
  },
  {
   "cell_type": "markdown",
   "metadata": {},
   "source": [
    "#### 2.3.2 Estimating the emission probability\n",
    "\n",
    "<center>\n",
    "<br>\n",
    "\n",
    "$\\hat{b}_{ij} = \\frac{\\text{expected number of times in  state j and observing symbol vk}}{\\text{expected number of times from in state j}}$\n",
    "</center>\n",
    "\n",
    "As we did before, we will need the probability of being in state $j$ at time $t$ (that we will call $\\gamma_{t}(j)$), and then sum it over all $t$ for which the observation at time $t$ was $v_k$\n",
    "\n",
    "<center>\n",
    "<br>\n",
    "\n",
    "$\\gamma_{t}(j) = P(q_t = j |O)$\n",
    "\n",
    "{expected number of times in  state $j$ and observing symbol $v_k$} = $\\sum_{t=0 s.t. O_t = v_k}^{T-2} \\gamma_{t}(j)$\n",
    "</center>\n",
    "\n",
    "By using the Bayes rule once more, we can obtain\n",
    "\n",
    "<center>\n",
    "<br>\n",
    "\n",
    "$\\gamma_{t}(j) = P(q_t = j |O)= \\frac{P(q_t = j, O)}{P(O)}$\n",
    "</center>\n",
    "\n",
    "Same as before, we already know the likelihood probability, and the probability of being in state $j$ at time $t$ and observing the sequence O is just the product of the forward and backward probabilities as can be shown in the figure below\n",
    "\n",
    "\n",
    "<img src=\"img/gamma_figure.PNG\" width=\"400px\"></img>\n",
    "\n",
    "<div class=\"alert alert-success\">\n",
    "\n",
    "The probability of being in state $j$ at time $t$ is therefore:\n",
    "\n",
    "<center>\n",
    "<br>\n",
    "\n",
    "$\\gamma_{t}(j) = \\frac{\\alpha_{t}(j) \\beta_{t}(j)}{P(O)}$\n",
    "\n",
    "</center>\n",
    "\n",
    "</div>\n",
    "\n",
    "Now that we have the numerator of $\\hat{b}_{ij}$, the denominator can be obtained by summing $\\gamma_{t}(j)$ over all the time steps $t$.\n",
    "\n",
    "<div class=\"alert alert-success\">\n",
    "\n",
    "We end up with:\n",
    "\n",
    "<center>\n",
    "<br>\n",
    "\n",
    "$\\hat{b}_{ij} = \\frac{\\sum_{t=0 s.t. O_t = v_k}^{T-1} \\gamma_{t}(j)}{\\sum_{t=0}^{T-1} \\gamma_{t}(j)}$\n",
    "\n",
    "</center>\n",
    "\n",
    "</div>"
   ]
  },
  {
   "cell_type": "markdown",
   "metadata": {},
   "source": [
    "Now that we can compute both the transition and estimation probabilities, it is time to implement them.\n",
    "\n",
    "The goal is to start with a first estimation of the parameters $A$ and $B$. Then, as it is an **Expectation-Maximization** algorithm, the iteration is composed of 2 steps:\n",
    "\n",
    "- The **expectation step** where we compute $\\xi$ and $\\gamma$ thanks to the previously computed $A$ and $B$\n",
    "- The **Maximization step** in which the new $\\xi$ and $\\gamma$ enable us to re estimate $A$ and $B$\n",
    "\n",
    "\n",
    "Therefore, what will be implemented will be as followed:\n",
    "\n",
    "- **Initializing $A$ and $B$**\n",
    "\n",
    "- **Iteration until convergence**:\n",
    "\n",
    "*E-step*\n",
    "\n",
    "<center>\n",
    "<br>\n",
    "\n",
    "$\\gamma_{t}(j) = \\frac{\\alpha_{t}(j) \\beta_{t}(j)}{\\alpha{T-1}(q_F)}$ $\\forall t$ and $j$\n",
    "\n",
    "</center>\n",
    "\n",
    "<center>\n",
    "<br>\n",
    "\n",
    "$\\xi_t(i, j)= \\frac{\\alpha_{t}(i) a_{ij}b_j(o_{t+1})\\beta_{t+1}(j)}{\\alpha_{T-1}(q_F)}$  $\\forall t,i$ and $j$\n",
    "\n",
    "</center>\n",
    "\n",
    "*M-step*\n",
    "\n",
    "<center>\n",
    "<br>\n",
    "\n",
    "$\\hat{a}_{ij}= \\frac{\\sum_{t=0}^{T-2} \\xi_{t}(i,j)}{\\sum_{t=0}^{T-2}\\sum_{k=0}^{N-1}\\xi_{t}(i,k)}$\n",
    "\n",
    "</center>\n",
    "\n",
    "<center>\n",
    "<br>\n",
    "\n",
    "$\\hat{b}_{ij} = \\frac{\\sum_{t=0 s.t. O_t = v_k}^{T-1} \\gamma_{t}(j)}{\\sum_{t=0}^{T-1} \\gamma_{t}(j)}$\n",
    "\n",
    "</center>\n",
    "\n",
    "- **Termination**: return $A$ and $B$\n",
    "\n"
   ]
  },
  {
   "cell_type": "code",
   "execution_count": 31,
   "metadata": {},
   "outputs": [],
   "source": [
    "def baum_welch(A, B, pi, observations, n_iter=100):\n",
    "    N = A.shape[0]\n",
    "    T = len(observations)\n",
    "\n",
    "    for n in range(n_iter):\n",
    "        ###estimation step\n",
    "        alpha = forward_computation( A, B, pi, observations)\n",
    "        beta = backward_computation( A, B, observations)\n",
    "\n",
    "        xi = np.zeros((N, N, T - 1))\n",
    "        for t in range(T - 1):\n",
    "            # joint probab of observed data up to time t @ transition prob * emisssion prob as t+1 @\n",
    "            # joint probab of observed data from time t+1\n",
    "            denominator = (alpha[t, :].T @ A * B[:, observations[t + 1]].T) @ beta[t + 1, :]\n",
    "            for i in range(N):\n",
    "                numerator = alpha[t, i] * A[i, :] * B[:, observations[t + 1]].T * beta[t + 1, :].T\n",
    "                xi[i, :, t] = numerator / denominator\n",
    "\n",
    "        gamma = np.sum(xi, axis=1)\n",
    "        ### maximization step\n",
    "        A = np.sum(xi, 2) / np.sum(gamma, axis=1).reshape((-1, 1))\n",
    "\n",
    "        # Add additional T'th element in gamma\n",
    "        gamma = np.hstack((gamma, np.sum(xi[:, :, T - 2], axis=0).reshape((-1, 1))))\n",
    "\n",
    "\n",
    "        K = B.shape[1]\n",
    "        denominator = np.sum(gamma, axis=1)\n",
    "        for l in range(K):\n",
    "            B[:, l] = np.sum(gamma[:, observations == l], axis=1)\n",
    "\n",
    "        B = np.divide(B, denominator.reshape((-1, 1)))\n",
    "\n",
    "    return A, B\n"
   ]
  },
  {
   "cell_type": "markdown",
   "metadata": {},
   "source": [
    "To train a HMM, you will need more than 4 observations"
   ]
  },
  {
   "cell_type": "code",
   "execution_count": 33,
   "metadata": {},
   "outputs": [
    {
     "name": "stdout",
     "output_type": "stream",
     "text": [
      "Real A is \n",
      "[[0.8 0.2]\n",
      " [0.5 0.5]] \n",
      " \n",
      "Real B is \n",
      "[[0.7 0.2 0.1]\n",
      " [0.3 0.4 0.3]]\n",
      "\n",
      " \n",
      "Custom model A is \n",
      "[[0.7784628  0.2215372 ]\n",
      " [0.20467697 0.79532303]] \n",
      " \n",
      "Custom model B is \n",
      "[[0.76315339 0.1536652  0.08318141]\n",
      " [0.38292966 0.43973896 0.17733138]]\n"
     ]
    }
   ],
   "source": [
    "data = pd.read_csv('data/data_H_S.csv')\n",
    "\n",
    "observations = data['Visible'].values\n",
    "\n",
    "A_computed, B_computed = baum_welch(A.copy(), B.copy(), pi.copy(), observations.copy(), n_iter= 100)\n",
    "\n",
    "print(f'Real A is \\n{A} \\n \\nReal B is \\n{B}')\n",
    "print(f'\\n \\nCustom model A is \\n{A_computed} \\n \\nCustom model B is \\n{B_computed}')"
   ]
  },
  {
   "cell_type": "markdown",
   "metadata": {},
   "source": [
    "<div class=\"alert alert-info\">\n",
    "\n",
    "**Notes**\n",
    "\n",
    "In principle, the baum-Wlech algorithm is an unsupervised algorithm, in reality the **initial conditions have a huge importance**, therefore the HMM structure is often set by hand.\n",
    "\n",
    "Moreover, the maximum reached is a **local maximum**. This reinforces the importance of the initial conditions, as it determines the local maximum.\n",
    "\n",
    "</div>"
   ]
  },
  {
   "cell_type": "markdown",
   "metadata": {},
   "source": [
    "## 3. Usecase of HMMs"
   ]
  },
  {
   "cell_type": "markdown",
   "metadata": {},
   "source": [
    "HMMs have found applications in many fields, thanks to their flexibility in modeling sequential data with hidden structure.\n",
    "\n",
    "The most noteworthy, as it's been said before, are Speech Recognition, part-of-speech tagging in NLP, Bioinformatics or even Finance. \n",
    "\n",
    "There exists a python library to model HMMs and more named [`hmmlearn`](https://hmmlearn.readthedocs.io/en/latest/).\n",
    "\n",
    "You can find simple [examples](https://hmmlearn.readthedocs.io/en/latest/auto_examples/index.html) and illustrations of HMM applications. In this notebook we'll only see one, but feel free to further explore the library if the subject holds your interest.\n",
    "\n",
    "### Using HMM to understand earthquakes\n",
    "\n",
    "The goal is to see if it is possible to separate out different tectonic processes that cause earthquakes, based on their frequency of occurance. \n",
    "\n",
    "Tectonic plates don't have the same activity, and therefore the same frequence in generating earthquakes. By trying to determine in wich state of activity each tectonic plate is, thanks to the frequence of observation of major earthquakes, we could guess in wich state they curretly are and predict their future evolution\n"
   ]
  },
  {
   "cell_type": "code",
   "execution_count": 34,
   "metadata": {},
   "outputs": [],
   "source": [
    "#!pip install hmmlearn"
   ]
  },
  {
   "cell_type": "code",
   "execution_count": 35,
   "metadata": {},
   "outputs": [],
   "source": [
    "import matplotlib.pyplot as plt\n",
    "from scipy.stats import poisson\n",
    "from hmmlearn import hmm"
   ]
  },
  {
   "cell_type": "code",
   "execution_count": 49,
   "metadata": {},
   "outputs": [
    {
     "name": "stderr",
     "output_type": "stream",
     "text": [
      "/tmp/ipykernel_907/2296257810.py:19: UserWarning: Matplotlib is currently using module://matplotlib_inline.backend_inline, which is a non-GUI backend, so cannot show the figure.\n",
      "  fig.show()\n"
     ]
    },
    {
     "data": {
      "image/png": "[encoded data removed]",
      "text/plain": [
       "<Figure size 640x480 with 1 Axes>"
      ]
     },
     "metadata": {},
     "output_type": "display_data"
    }
   ],
   "source": [
    "# earthquake data from http://earthquake.usgs.gov/\n",
    "earthquakes = np.array([\n",
    "    13, 14, 8, 10, 16, 26, 32, 27, 18, 32, 36, 24, 22, 23, 22, 18,\n",
    "    25, 21, 21, 14, 8, 11, 14, 23, 18, 17, 19, 20, 22, 19, 13, 26,\n",
    "    13, 14, 22, 24, 21, 22, 26, 21, 23, 24, 27, 41, 31, 27, 35, 26,\n",
    "    28, 36, 39, 21, 17, 22, 17, 19, 15, 34, 10, 15, 22, 18, 15, 20,\n",
    "    15, 22, 19, 16, 30, 27, 29, 23, 20, 16, 21, 21, 25, 16, 18, 15,\n",
    "    18, 14, 10, 15, 8, 15, 6, 11, 8, 7, 18, 16, 13, 12, 13, 20,\n",
    "    15, 16, 12, 18, 15, 16, 13, 15, 16, 11, 11])\n",
    "\n",
    "\n",
    "# Plot the sampled data\n",
    "fig, ax = plt.subplots()\n",
    "ax.plot(earthquakes, \".-\", ms=6, mfc=\"orange\", alpha=0.7)\n",
    "ax.set_xticks(range(0, earthquakes.size, 10))\n",
    "ax.set_xticklabels(range(1906, 2007, 10))\n",
    "ax.set_xlabel('Year')\n",
    "ax.set_ylabel('Count')\n",
    "fig.show()"
   ]
  },
  {
   "cell_type": "markdown",
   "metadata": {},
   "source": [
    "It is possible to broaden HMM's horizons by associating the classical model with probability laws for example, such as the **Poisson law**, which is the one commonly used to describe the occurence of important earthquakes"
   ]
  },
  {
   "cell_type": "code",
   "execution_count": 50,
   "metadata": {},
   "outputs": [
    {
     "name": "stdout",
     "output_type": "stream",
     "text": [
      "Converged: True\t\tScore: -391.9189281654951\n",
      "Converged: True\t\tScore: -391.9189281654951\n",
      "Converged: True\t\tScore: -391.9189281654951\n",
      "Converged: True\t\tScore: -391.9189281654951\n",
      "Converged: True\t\tScore: -391.9189281654951\n",
      "Converged: True\t\tScore: -391.9189281654951\n",
      "Converged: True\t\tScore: -391.9189281654951\n",
      "Converged: True\t\tScore: -391.9189281654951\n",
      "Converged: True\t\tScore: -391.9189281654951\n",
      "Converged: True\t\tScore: -391.9189281654951\n",
      "Converged: True\t\tScore: -341.89397049875447\n",
      "Converged: True\t\tScore: -341.88244772721396\n",
      "Converged: True\t\tScore: -342.14454823785394\n",
      "Converged: True\t\tScore: -341.89296748597104\n",
      "Converged: True\t\tScore: -341.8855538199331\n",
      "Converged: True\t\tScore: -342.28762276127594\n",
      "Converged: True\t\tScore: -342.5369292103581\n",
      "Converged: True\t\tScore: -341.88750207762195\n",
      "Converged: True\t\tScore: -341.87893633799735\n",
      "Converged: True\t\tScore: -342.9703881743685\n",
      "Converged: True\t\tScore: -343.0429169039876\n",
      "Converged: True\t\tScore: -342.0845203955183\n",
      "Converged: True\t\tScore: -342.6892743201989\n",
      "Converged: True\t\tScore: -328.5977427805315\n",
      "Converged: True\t\tScore: -341.6613001106409\n",
      "Converged: True\t\tScore: -329.0639942771591\n",
      "Converged: True\t\tScore: -329.5050253557605\n",
      "Converged: True\t\tScore: -338.90786993240823\n",
      "Converged: True\t\tScore: -328.7562782189667\n",
      "Converged: True\t\tScore: -337.65157449610496\n",
      "Converged: True\t\tScore: -328.140456803197\n",
      "Converged: True\t\tScore: -340.59777383065614\n",
      "Converged: True\t\tScore: -330.4670538297964\n",
      "Converged: True\t\tScore: -341.5633429271246\n",
      "Converged: True\t\tScore: -328.02126544237626\n",
      "Converged: True\t\tScore: -340.86474747756444\n",
      "Converged: True\t\tScore: -339.55978555721845\n",
      "Converged: True\t\tScore: -328.69847130568786\n",
      "Converged: True\t\tScore: -328.87604629227917\n",
      "Converged: True\t\tScore: -340.1318877583548\n",
      "The best model had a score of -328.02126544237626 and 4 components\n"
     ]
    }
   ],
   "source": [
    "scores = list()\n",
    "models = list()\n",
    "for n_components in range(1, 5):\n",
    "    for idx in range(10):  # ten different random starting states\n",
    "        # define our hidden Markov model\n",
    "        model = hmm.PoissonHMM(n_components=n_components, random_state=idx,\n",
    "                               n_iter=10)\n",
    "        model.fit(earthquakes[:, None])\n",
    "        models.append(model)\n",
    "        scores.append(model.score(earthquakes[:, None]))\n",
    "        print(f'Converged: {model.monitor_.converged}\\t\\t'\n",
    "              f'Score: {scores[-1]}')\n",
    "\n",
    "# get the best model\n",
    "model = models[np.argmax(scores)]\n",
    "print(f'The best model had a score of {max(scores)} and '\n",
    "      f'{model.n_components} components')\n",
    "\n",
    "# use the Viterbi algorithm to predict the most likely sequence of states\n",
    "# given the model\n",
    "states = model.predict(earthquakes[:, None])"
   ]
  },
  {
   "cell_type": "markdown",
   "metadata": {},
   "source": [
    "Let’s plot the waiting times from our most likely series of states of earthquake activity with the earthquake data. As we can see, the model with the maximum likelihood had different states which may reflect times of varying earthquake danger."
   ]
  },
  {
   "cell_type": "code",
   "execution_count": 51,
   "metadata": {},
   "outputs": [
    {
     "data": {
      "text/plain": [
       "Text(0, 0.5, 'State')"
      ]
     },
     "execution_count": 51,
     "metadata": {},
     "output_type": "execute_result"
    },
    {
     "data": {
      "image/png": "[encoded data removed]",
      "text/plain": [
       "<Figure size 640x480 with 1 Axes>"
      ]
     },
     "metadata": {},
     "output_type": "display_data"
    }
   ],
   "source": [
    "# plot model states over time\n",
    "fig, ax = plt.subplots()\n",
    "ax.plot(model.lambdas_[states], \".-\", ms=6, mfc=\"orange\")\n",
    "ax.plot(earthquakes)\n",
    "ax.set_title('States compared to generated')\n",
    "ax.set_ylabel('State')"
   ]
  },
  {
   "cell_type": "markdown",
   "metadata": {},
   "source": [
    "As we can see, the states tend to remain for a while before changing, probably meaning that the off-diagonal cells of the transition matrix must be quite small. \n",
    "\n",
    "Let's test this theory"
   ]
  },
  {
   "cell_type": "code",
   "execution_count": 52,
   "metadata": {},
   "outputs": [
    {
     "data": {
      "image/png": "[encoded data removed]",
      "text/plain": [
       "<Figure size 640x480 with 2 Axes>"
      ]
     },
     "metadata": {},
     "output_type": "display_data"
    }
   ],
   "source": [
    "fig, ax = plt.subplots()\n",
    "img = ax.imshow(model.transmat_, aspect='auto', cmap='spring')\n",
    "ax.set_title('Transition Matrix')\n",
    "ax.set_xlabel('State To')\n",
    "ax.set_ylabel('State From')\n",
    "cbar = plt.colorbar(img, ax=ax)\n",
    "cbar.set_label('Transition Probability')\n",
    "\n",
    "plt.show()"
   ]
  },
  {
   "cell_type": "markdown",
   "metadata": {},
   "source": [
    "The diagonal having more important coefficient that the rest means that once a state is reached, it tends to be stationnary, therefore the odds are that, after 2007, the seismic activity should remain relatively calm\n",
    "\n",
    "And indeed, if we add the years [2008 to 2023](https://earthquake.usgs.gov/earthquakes/browse/m7-world.php?year=2023):"
   ]
  },
  {
   "cell_type": "code",
   "execution_count": 53,
   "metadata": {},
   "outputs": [
    {
     "data": {
      "text/plain": [
       "Text(0, 0.5, 'State')"
      ]
     },
     "execution_count": 53,
     "metadata": {},
     "output_type": "execute_result"
    },
    {
     "data": {
      "image/png": "[encoded data removed]",
      "text/plain": [
       "<Figure size 640x480 with 1 Axes>"
      ]
     },
     "metadata": {},
     "output_type": "display_data"
    }
   ],
   "source": [
    "earthquakes = np.array([\n",
    "    13, 14, 8, 10, 16, 26, 32, 27, 18, 32, 36, 24, 22, 23, 22, 18,\n",
    "    25, 21, 21, 14, 8, 11, 14, 23, 18, 17, 19, 20, 22, 19, 13, 26,\n",
    "    13, 14, 22, 24, 21, 22, 26, 21, 23, 24, 27, 41, 31, 27, 35, 26,\n",
    "    28, 36, 39, 21, 17, 22, 17, 19, 15, 34, 10, 15, 22, 18, 15, 20,\n",
    "    15, 22, 19, 16, 30, 27, 29, 23, 20, 16, 21, 21, 25, 16, 18, 15,\n",
    "    18, 14, 10, 15, 8, 15, 6, 11, 8, 7, 18, 16, 13, 12, 13, 20,\n",
    "    15, 16, 12, 18, 15, 16, 13, 15, 16, 11, 11, 12, 17, 24, 20, 16,\n",
    "    19, 12, 19, 16, 7, 17, 10, 10, 19, 11, 19])\n",
    "\n",
    "# plot model states over time\n",
    "fig, ax = plt.subplots()\n",
    "ax.plot(model.lambdas_[states], \".-\", ms=6, mfc=\"orange\")\n",
    "ax.plot(earthquakes)\n",
    "ax.set_title('States compared to generated')\n",
    "ax.set_ylabel('State')"
   ]
  },
  {
   "cell_type": "markdown",
   "metadata": {},
   "source": [
    "As we can see, the tendency stayed roughly the same."
   ]
  },
  {
   "cell_type": "markdown",
   "metadata": {},
   "source": [
    "## Conclusion\n",
    "\n",
    "Throughout this notebook, we came to understand HMMs, which are a branch of the well known Markov Process field. By resolving the 3 fundamentals problems of HMMs, many real world applications can be made.\n",
    "\n",
    "However, this field of theory dates back to the seventies. Although it was a pioneer tool in text generation, it is nowadays outmatched by more recent deep leaning theories such as **Recurrent Neural Networks** when it comes to Natural Language Processing.\n",
    "\n",
    "Despite this, it still has numerous applications in [**Computational Biology**](https://www.sciencedirect.com/science/article/pii/S1672022904020145), such as protein sequences classification or genomic annotation. "
   ]
  },
  {
   "cell_type": "markdown",
   "metadata": {},
   "source": [
    "## Bibliography\n",
    "\n",
    "- Notebook based on Stanford University's [tutorial](https://www.google.com/url?sa=t&rct=j&q=&esrc=s&source=web&cd=&cad=rja&uact=8&ved=2ahUKEwiTn7Lp2qOEAxXIUaQEHexfCYQQFnoECBsQAQ&url=https%3A%2F%2Fweb.stanford.edu%2F~jurafsky%2Fslp3%2FA.pdf&usg=AOvVaw34zbZeSIlMGKQINMfFAuw3&opi=89978449) \n",
    "\n",
    "- You can find a notebook on the same subject with mathematical proofs [here](https://github.com/Julien6431/Hidden-Markov-Models/blob/main/HMM.ipynb)\n",
    "\n",
    "\n"
   ]
  }
 ],
 "metadata": {
  "kernelspec": {
   "display_name": "SDD-env",
   "language": "python",
   "name": "python3"
  },
  "language_info": {
   "codemirror_mode": {
    "name": "ipython",
    "version": 3
   },
   "file_extension": ".py",
   "mimetype": "text/x-python",
   "name": "python",
   "nbconvert_exporter": "python",
   "pygments_lexer": "ipython3",
   "version": "3.10.12"
  }
 },
 "nbformat": 4,
 "nbformat_minor": 2
}
